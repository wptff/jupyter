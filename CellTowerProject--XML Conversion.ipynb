{
 "cells": [
  {
   "cell_type": "code",
   "execution_count": 14,
   "metadata": {},
   "outputs": [],
   "source": [
    "## on the Road to Viewshed Analysis written by Sam Montoia\n",
    "\n",
    "import arcpy\n",
    "import pandas as pd\n",
    "\n"
   ]
  },
  {
   "cell_type": "code",
   "execution_count": 2,
   "metadata": {},
   "outputs": [],
   "source": [
    "aprx = r\"R:\\gisroot\\Maps\\CellularTowersProject2018\\CellTowerProject2018.aprx\"\n",
    "geodb =  r\"R:\\gisroot\\Maps\\CellularTowersProject2018\\CellTower_2018.gdb\"\n",
    "fc = r\"R:\\gisroot\\Maps\\CellularTowersProject2018\\CellTower_2018.gdb\\Towers\"\n"
   ]
  },
  {
   "cell_type": "code",
   "execution_count": 3,
   "metadata": {},
   "outputs": [
    {
     "name": "stdout",
     "output_type": "stream",
     "text": [
      "R:\\gisroot\\Maps\\CellularTowersProject2018\\CellTower_2018.gdb\\Towers\n"
     ]
    }
   ],
   "source": [
    "print(fc)"
   ]
  },
  {
   "cell_type": "code",
   "execution_count": 4,
   "metadata": {},
   "outputs": [],
   "source": [
    "aVar = '''<table><td><table border=\"1\"><tr><td width=\"150\">Frequency<td width=\"300\" >3600MHz<tr><td>Power (ERP)<td>W<tr><td>Tx Lat / Lon<td>37.17127,-106.99718<tr><td>Tx Height<td>100f<tr><td>Input RF<td>4 W<tr><td>Tx Antenna<td>Beamwidth: 180&deg;<br>Azimuth: 90&deg; Tilt: &deg;<br>Polarisation: h<br>Gain: 18 dBi<br>Front/Back ratio: 37 dB<tr><td>Rx Height<td>10f<tr><td>Rx Sensitivity<td>-95 <tr><td>Modulation<td>0<tr><td>Bandwidth<td>0 MHz<tr><td>Prop model (KE Diffraction)<td>ITM (0)<tr><td>Resolution<td>30m<tr><td>Clutter<td>10f<tr><td>Terrain<td>4<tr><td>Climate<td>5<tr><td>Radius<td>16Mi<tr><td>File id<td>27-0131194922_Site_A<tr><td>Colour<td>10</table><td><img src='files/rainbow1_01.dcf.png'/></table><h2><a href=\"https://cloudrf.com\">CloudRF.com</a></h2>'''\n"
   ]
  },
  {
   "cell_type": "code",
   "execution_count": 5,
   "metadata": {},
   "outputs": [
    {
     "data": {
      "text/plain": [
       "'<table><td><table border=\"1\"><tr><td width=\"150\">Frequency<td width=\"300\" >3600MHz<tr><td>Power (ERP)<td>W<tr><td>Tx Lat / Lon<td>37.17127,-106.99718<tr><td>Tx Height<td>100f<tr><td>Input RF<td>4 W<tr><td>Tx Antenna<td>Beamwidth: 180&deg;<br>Azimuth: 90&deg; Tilt: &deg;<br>Polarisation: h<br>Gain: 18 dBi<br>Front/Back ratio: 37 dB<tr><td>Rx Height<td>10f<tr><td>Rx Sensitivity<td>-95 <tr><td>Modulation<td>0<tr><td>Bandwidth<td>0 MHz<tr><td>Prop model (KE Diffraction)<td>ITM (0)<tr><td>Resolution<td>30m<tr><td>Clutter<td>10f<tr><td>Terrain<td>4<tr><td>Climate<td>5<tr><td>Radius<td>16Mi<tr><td>File id<td>27-0131194922_Site_A<tr><td>Colour<td>10</table><td><img src=\\'files/rainbow1_01.dcf.png\\'/></table><h2><a href=\"https://cloudrf.com\">CloudRF.com</a></h2>'"
      ]
     },
     "execution_count": 5,
     "metadata": {},
     "output_type": "execute_result"
    }
   ],
   "source": [
    "aVar\n"
   ]
  },
  {
   "cell_type": "code",
   "execution_count": 6,
   "metadata": {},
   "outputs": [],
   "source": [
    "s = \"\"\"<table>\n",
    "  <tr><th>Event</th><th>Start Date</th><th>End Date</th></tr>\n",
    "  <tr><td>a</td><td>b</td><td>c</td></tr>\n",
    "  <tr><td>d</td><td>e</td><td>f</td></tr>\n",
    "  <tr><td>g</td><td>h</td><td>i</td></tr>\n",
    "</table>\n",
    "\"\"\"\n"
   ]
  },
  {
   "cell_type": "code",
   "execution_count": 17,
   "metadata": {},
   "outputs": [],
   "source": [
    "dfs = pd.read_html(aVar)"
   ]
  },
  {
   "cell_type": "code",
   "execution_count": 20,
   "metadata": {},
   "outputs": [
    {
     "data": {
      "text/html": [
       "<table><td><table border=\"1\"><tr><td width=\"150\">Frequency<td width=\"300\" >3600MHz<tr><td>Power (ERP)<td>W<tr><td>Tx Lat / Lon<td>37.17127,-106.99718<tr><td>Tx Height<td>100f<tr><td>Input RF<td>4 W<tr><td>Tx Antenna<td>Beamwidth: 180&deg;<br>Azimuth: 90&deg; Tilt: &deg;<br>Polarisation: h<br>Gain: 18 dBi<br>Front/Back ratio: 37 dB<tr><td>Rx Height<td>10f<tr><td>Rx Sensitivity<td>-95 <tr><td>Modulation<td>0<tr><td>Bandwidth<td>0 MHz<tr><td>Prop model (KE Diffraction)<td>ITM (0)<tr><td>Resolution<td>30m<tr><td>Clutter<td>10f<tr><td>Terrain<td>4<tr><td>Climate<td>5<tr><td>Radius<td>16Mi<tr><td>File id<td>27-0131194922_Site_A<tr><td>Colour<td>10</table><td><img src='files/rainbow1_01.dcf.png'/></table><h2><a href=\"https://cloudrf.com\">CloudRF.com</a></h2>"
      ]
     },
     "metadata": {},
     "output_type": "display_data"
    }
   ],
   "source": [
    "from IPython.display import display_html\n",
    "display_html(aVar, raw = True)"
   ]
  },
  {
   "cell_type": "code",
   "execution_count": 22,
   "metadata": {},
   "outputs": [
    {
     "data": {
      "text/plain": [
       "2"
      ]
     },
     "execution_count": 22,
     "metadata": {},
     "output_type": "execute_result"
    }
   ],
   "source": []
  },
  {
   "cell_type": "code",
   "execution_count": null,
   "metadata": {},
   "outputs": [],
   "source": []
  }
 ],
 "metadata": {
  "kernelspec": {
   "display_name": "Python 3",
   "language": "python",
   "name": "python3"
  },
  "language_info": {
   "codemirror_mode": {
    "name": "ipython",
    "version": 3
   },
   "file_extension": ".py",
   "mimetype": "text/x-python",
   "name": "python",
   "nbconvert_exporter": "python",
   "pygments_lexer": "ipython3",
   "version": "3.6.5"
  }
 },
 "nbformat": 4,
 "nbformat_minor": 2
}
